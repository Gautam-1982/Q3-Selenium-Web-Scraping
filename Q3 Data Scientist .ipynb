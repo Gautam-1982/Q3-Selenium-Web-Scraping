{
 "cells": [
  {
   "cell_type": "code",
   "execution_count": 10,
   "metadata": {},
   "outputs": [],
   "source": [
    "import selenium\n",
    "import pandas as pd\n",
    "from selenium import webdriver"
   ]
  },
  {
   "cell_type": "code",
   "execution_count": 11,
   "metadata": {},
   "outputs": [],
   "source": [
    "driver = webdriver.Chrome(executable_path=\"D:\\\\chromedriver_win32\\\\chromedriver.exe\")"
   ]
  },
  {
   "cell_type": "code",
   "execution_count": 12,
   "metadata": {},
   "outputs": [],
   "source": [
    "driver.get('https://www.naukri.com/')"
   ]
  },
  {
   "cell_type": "code",
   "execution_count": 13,
   "metadata": {},
   "outputs": [],
   "source": [
    "search_job = driver.find_element_by_id('qsb-keyword-sugg')\n",
    "search_job.send_keys(\"Data Scientist\")"
   ]
  },
  {
   "cell_type": "code",
   "execution_count": 14,
   "metadata": {},
   "outputs": [],
   "source": [
    "search_btn=driver.find_element_by_xpath(\"//div[@class='search-btn']/button\")\n",
    "search_btn.click()"
   ]
  },
  {
   "cell_type": "code",
   "execution_count": 15,
   "metadata": {},
   "outputs": [],
   "source": [
    "url=\"https://www.naukri.com/data-scientist-jobs?k=data%20scientist\""
   ]
  },
  {
   "cell_type": "code",
   "execution_count": 16,
   "metadata": {},
   "outputs": [],
   "source": [
    "driver.get(url)"
   ]
  },
  {
   "cell_type": "code",
   "execution_count": 17,
   "metadata": {},
   "outputs": [],
   "source": [
    "search_loc = driver.find_element_by_xpath(\"//span[@class='ellipsis fleft']\")\n",
    "search_loc.click()"
   ]
  },
  {
   "cell_type": "code",
   "execution_count": 18,
   "metadata": {},
   "outputs": [],
   "source": [
    "search_Salary = driver.find_element_by_xpath(\"//i[@class='fleft naukicon naukicon-checked']\")\n",
    "search_Salary.click()"
   ]
  },
  {
   "cell_type": "code",
   "execution_count": 19,
   "metadata": {},
   "outputs": [],
   "source": [
    "job_titles=[]\n",
    "company_names=[]\n",
    "location_lists=[]\n",
    "experiences_required=[]\n"
   ]
  },
  {
   "cell_type": "code",
   "execution_count": 20,
   "metadata": {},
   "outputs": [
    {
     "data": {
      "text/plain": [
       "[<selenium.webdriver.remote.webelement.WebElement (session=\"607bc8455ab8fb60f9b26a15228945e3\", element=\"b7be8cad-3b29-4da0-a66c-66af9542725a\")>,\n",
       " <selenium.webdriver.remote.webelement.WebElement (session=\"607bc8455ab8fb60f9b26a15228945e3\", element=\"c2ea7361-14fe-4274-bafe-e149e63ae62e\")>,\n",
       " <selenium.webdriver.remote.webelement.WebElement (session=\"607bc8455ab8fb60f9b26a15228945e3\", element=\"a79a54e9-805d-4eb1-b08e-1a35e3f4ebf4\")>,\n",
       " <selenium.webdriver.remote.webelement.WebElement (session=\"607bc8455ab8fb60f9b26a15228945e3\", element=\"3db5cb25-bf55-4c2c-a1db-aa71cb773dea\")>,\n",
       " <selenium.webdriver.remote.webelement.WebElement (session=\"607bc8455ab8fb60f9b26a15228945e3\", element=\"c3de0765-fdba-44b4-a30a-14dc04cdc2ed\")>,\n",
       " <selenium.webdriver.remote.webelement.WebElement (session=\"607bc8455ab8fb60f9b26a15228945e3\", element=\"89845046-c181-4fb6-9798-88e837cdbf63\")>,\n",
       " <selenium.webdriver.remote.webelement.WebElement (session=\"607bc8455ab8fb60f9b26a15228945e3\", element=\"3797406e-b0f5-4fea-93d8-633727891acd\")>,\n",
       " <selenium.webdriver.remote.webelement.WebElement (session=\"607bc8455ab8fb60f9b26a15228945e3\", element=\"db5b803f-62a4-421e-8217-53e9c3fbb063\")>,\n",
       " <selenium.webdriver.remote.webelement.WebElement (session=\"607bc8455ab8fb60f9b26a15228945e3\", element=\"43c42470-c994-48cf-9265-d4b3cfd768fe\")>,\n",
       " <selenium.webdriver.remote.webelement.WebElement (session=\"607bc8455ab8fb60f9b26a15228945e3\", element=\"e9fd4cda-a645-4eac-aad2-ed4a6d280584\")>]"
      ]
     },
     "execution_count": 20,
     "metadata": {},
     "output_type": "execute_result"
    }
   ],
   "source": [
    "title_tags=driver.find_elements_by_xpath(\"//a[@class='title fw500 ellipsis']\")\n",
    "title_tags[0:10]"
   ]
  },
  {
   "cell_type": "code",
   "execution_count": 21,
   "metadata": {},
   "outputs": [
    {
     "data": {
      "text/plain": [
       "['Developer - Data Science',\n",
       " 'Data Scientist',\n",
       " 'Staff Data Scientist',\n",
       " 'Opportunity For Data Scientist Internship - Bengaluru',\n",
       " 'Data Scientist',\n",
       " 'Data Scientist/ Analyst',\n",
       " 'Data Scientist - Machine Learning',\n",
       " 'Data Scientist || Data Analyst || Data science',\n",
       " 'DBCG IND - GAMMA Senior Data Scientist',\n",
       " 'Data Scientist - Image Processing/Machine Learning']"
      ]
     },
     "execution_count": 21,
     "metadata": {},
     "output_type": "execute_result"
    }
   ],
   "source": [
    "for i in title_tags:\n",
    "    title=i.text\n",
    "    job_titles.append(title)\n",
    "job_titles[0:10]"
   ]
  },
  {
   "cell_type": "code",
   "execution_count": 22,
   "metadata": {},
   "outputs": [
    {
     "data": {
      "text/plain": [
       "[<selenium.webdriver.remote.webelement.WebElement (session=\"607bc8455ab8fb60f9b26a15228945e3\", element=\"8c8e63ca-5dc6-49e2-9ef0-79b031e5d09b\")>,\n",
       " <selenium.webdriver.remote.webelement.WebElement (session=\"607bc8455ab8fb60f9b26a15228945e3\", element=\"ae90171e-e33a-4b42-b273-cf7f6941ba2f\")>,\n",
       " <selenium.webdriver.remote.webelement.WebElement (session=\"607bc8455ab8fb60f9b26a15228945e3\", element=\"cb314d8b-142c-4473-9d99-2140cf79771b\")>,\n",
       " <selenium.webdriver.remote.webelement.WebElement (session=\"607bc8455ab8fb60f9b26a15228945e3\", element=\"79c8f089-9f28-4079-8887-610b762b6cab\")>,\n",
       " <selenium.webdriver.remote.webelement.WebElement (session=\"607bc8455ab8fb60f9b26a15228945e3\", element=\"614a409a-4594-496c-9420-bc956ef9c196\")>,\n",
       " <selenium.webdriver.remote.webelement.WebElement (session=\"607bc8455ab8fb60f9b26a15228945e3\", element=\"f71220fd-9b77-4c4d-9681-5f02fb393c78\")>,\n",
       " <selenium.webdriver.remote.webelement.WebElement (session=\"607bc8455ab8fb60f9b26a15228945e3\", element=\"8b707d3f-ed96-4fa5-a740-e347e687854c\")>,\n",
       " <selenium.webdriver.remote.webelement.WebElement (session=\"607bc8455ab8fb60f9b26a15228945e3\", element=\"a3368beb-9c2a-4de7-b4e1-29566fa6075d\")>,\n",
       " <selenium.webdriver.remote.webelement.WebElement (session=\"607bc8455ab8fb60f9b26a15228945e3\", element=\"e5fa37d7-f48f-472a-8e45-c0c60dd72259\")>,\n",
       " <selenium.webdriver.remote.webelement.WebElement (session=\"607bc8455ab8fb60f9b26a15228945e3\", element=\"a7f4bc79-cbcc-4d78-b464-5d5b57d0f889\")>]"
      ]
     },
     "execution_count": 22,
     "metadata": {},
     "output_type": "execute_result"
    }
   ],
   "source": [
    "companies_tags=driver.find_elements_by_xpath(\"//a[@class='subTitle ellipsis fleft']\")\n",
    "companies_tags[0:10]"
   ]
  },
  {
   "cell_type": "code",
   "execution_count": 23,
   "metadata": {},
   "outputs": [
    {
     "data": {
      "text/plain": [
       "['ICL Systems India Private Limited',\n",
       " 'CronJ IT Technologies Private Limited',\n",
       " 'Walmart Global Tech India',\n",
       " 'Corner Stone Solutions',\n",
       " 'Super India Tech Mark',\n",
       " 'Becton Dickinson India Pvt. Ltd',\n",
       " 'AugmatrixGo',\n",
       " 'Inspiration Manpower Consultancy Pvt. Ltd.',\n",
       " 'Boston Consulting Group',\n",
       " 'CarbyneTech India']"
      ]
     },
     "execution_count": 23,
     "metadata": {},
     "output_type": "execute_result"
    }
   ],
   "source": [
    "for i in companies_tags:\n",
    "    company_name=i.text\n",
    "    company_names.append(company_name)\n",
    "company_names[0:10]"
   ]
  },
  {
   "cell_type": "code",
   "execution_count": 24,
   "metadata": {},
   "outputs": [
    {
     "data": {
      "text/plain": [
       "[<selenium.webdriver.remote.webelement.WebElement (session=\"607bc8455ab8fb60f9b26a15228945e3\", element=\"4cdfa1da-e434-4f8a-a4d9-a0ddddf652d8\")>,\n",
       " <selenium.webdriver.remote.webelement.WebElement (session=\"607bc8455ab8fb60f9b26a15228945e3\", element=\"88bf6084-188d-4f74-9620-b78bf118cc88\")>,\n",
       " <selenium.webdriver.remote.webelement.WebElement (session=\"607bc8455ab8fb60f9b26a15228945e3\", element=\"29b84f79-6895-43f1-8ebc-d65669a24627\")>,\n",
       " <selenium.webdriver.remote.webelement.WebElement (session=\"607bc8455ab8fb60f9b26a15228945e3\", element=\"93bc22cb-e66b-462f-ac90-1cf974cc03b0\")>,\n",
       " <selenium.webdriver.remote.webelement.WebElement (session=\"607bc8455ab8fb60f9b26a15228945e3\", element=\"a7ca13c7-d2b6-4d1e-8737-60f4ba03801a\")>,\n",
       " <selenium.webdriver.remote.webelement.WebElement (session=\"607bc8455ab8fb60f9b26a15228945e3\", element=\"be8b45a6-14ab-4118-aa78-1da28455f3dc\")>,\n",
       " <selenium.webdriver.remote.webelement.WebElement (session=\"607bc8455ab8fb60f9b26a15228945e3\", element=\"b28ba6df-80ba-4a28-a952-42d25c5c88a0\")>,\n",
       " <selenium.webdriver.remote.webelement.WebElement (session=\"607bc8455ab8fb60f9b26a15228945e3\", element=\"9f8df9bc-062e-412b-8f9c-08b1ea29390a\")>,\n",
       " <selenium.webdriver.remote.webelement.WebElement (session=\"607bc8455ab8fb60f9b26a15228945e3\", element=\"64c1aa9b-c355-4bad-b8d8-bf97648e3394\")>,\n",
       " <selenium.webdriver.remote.webelement.WebElement (session=\"607bc8455ab8fb60f9b26a15228945e3\", element=\"7bb0f41d-8aa9-46b9-b447-32fd722484fe\")>]"
      ]
     },
     "execution_count": 24,
     "metadata": {},
     "output_type": "execute_result"
    }
   ],
   "source": [
    "locations_tags=driver.find_elements_by_xpath(\"//li[@class='fleft grey-text br2 placeHolderLi location']/span[1]\")\n",
    "locations_tags[0:10]"
   ]
  },
  {
   "cell_type": "code",
   "execution_count": 25,
   "metadata": {},
   "outputs": [
    {
     "data": {
      "text/plain": [
       "['Delhi / NCR',\n",
       " 'Bangalore/Bengaluru',\n",
       " 'Other',\n",
       " 'Bangalore/Bengaluru',\n",
       " 'Mumbai (All Areas)',\n",
       " 'Bangalore/Bengaluru',\n",
       " 'Bangalore/Bengaluru',\n",
       " 'Navi Mumbai, Bangalore/Bengaluru',\n",
       " 'Mumbai, New Delhi, Chennai, Bangalore/Bengaluru',\n",
       " 'Hyderabad/Secunderabad']"
      ]
     },
     "execution_count": 25,
     "metadata": {},
     "output_type": "execute_result"
    }
   ],
   "source": [
    "for i in locations_tags:\n",
    "    location_list=i.text\n",
    "    location_lists.append(location_list)\n",
    "location_lists[0:10]"
   ]
  },
  {
   "cell_type": "code",
   "execution_count": 26,
   "metadata": {},
   "outputs": [
    {
     "data": {
      "text/plain": [
       "[<selenium.webdriver.remote.webelement.WebElement (session=\"607bc8455ab8fb60f9b26a15228945e3\", element=\"18f80683-5d22-4412-9c62-888dd15f7fb0\")>,\n",
       " <selenium.webdriver.remote.webelement.WebElement (session=\"607bc8455ab8fb60f9b26a15228945e3\", element=\"4ae8794c-7b35-4346-bb14-422c592d7fcf\")>,\n",
       " <selenium.webdriver.remote.webelement.WebElement (session=\"607bc8455ab8fb60f9b26a15228945e3\", element=\"4a72e2d7-8bd6-43d3-8e8f-7228791fc10d\")>,\n",
       " <selenium.webdriver.remote.webelement.WebElement (session=\"607bc8455ab8fb60f9b26a15228945e3\", element=\"ffa52e5d-aa12-4f04-b5f4-ceec25d1110f\")>,\n",
       " <selenium.webdriver.remote.webelement.WebElement (session=\"607bc8455ab8fb60f9b26a15228945e3\", element=\"5eca5894-01a0-46e5-9389-c5186469c063\")>,\n",
       " <selenium.webdriver.remote.webelement.WebElement (session=\"607bc8455ab8fb60f9b26a15228945e3\", element=\"8e16e0e9-4c32-403e-bd52-c662b2f8bdc8\")>,\n",
       " <selenium.webdriver.remote.webelement.WebElement (session=\"607bc8455ab8fb60f9b26a15228945e3\", element=\"805363e6-1a43-483b-b847-183b361fceb2\")>,\n",
       " <selenium.webdriver.remote.webelement.WebElement (session=\"607bc8455ab8fb60f9b26a15228945e3\", element=\"6c67c1af-932e-4fb8-8914-0a11de097249\")>,\n",
       " <selenium.webdriver.remote.webelement.WebElement (session=\"607bc8455ab8fb60f9b26a15228945e3\", element=\"2719acc1-b56f-4d97-aec3-07d736d1ab6b\")>,\n",
       " <selenium.webdriver.remote.webelement.WebElement (session=\"607bc8455ab8fb60f9b26a15228945e3\", element=\"5ccf0e76-83a5-4b47-90db-3cc26296cf56\")>]"
      ]
     },
     "execution_count": 26,
     "metadata": {},
     "output_type": "execute_result"
    }
   ],
   "source": [
    "experience_tags=driver.find_elements_by_xpath(\"//li[@class='fleft grey-text br2 placeHolderLi experience']\")\n",
    "experience_tags[0:10]"
   ]
  },
  {
   "cell_type": "code",
   "execution_count": 27,
   "metadata": {},
   "outputs": [
    {
     "data": {
      "text/plain": [
       "['3-5 Yrs',\n",
       " '0-1 Yrs',\n",
       " '0-5 Yrs',\n",
       " '0-1 Yrs',\n",
       " '0-1 Yrs',\n",
       " '5-10 Yrs',\n",
       " '2-5 Yrs',\n",
       " '6-11 Yrs',\n",
       " '6-10 Yrs',\n",
       " '6-11 Yrs']"
      ]
     },
     "execution_count": 27,
     "metadata": {},
     "output_type": "execute_result"
    }
   ],
   "source": [
    "for i in experience_tags:\n",
    "    experience_required=i.text\n",
    "    experiences_required.append(experience_required)\n",
    "experiences_required[0:10]"
   ]
  },
  {
   "cell_type": "code",
   "execution_count": 28,
   "metadata": {},
   "outputs": [
    {
     "name": "stdout",
     "output_type": "stream",
     "text": [
      "21 21 21 21\n"
     ]
    }
   ],
   "source": [
    "print(len(job_titles), len(company_names), len(location_lists), len(experiences_required))"
   ]
  },
  {
   "cell_type": "code",
   "execution_count": 30,
   "metadata": {},
   "outputs": [],
   "source": [
    "import pandas as pd\n",
    "jobs=pd.DataFrame({})\n",
    "jobs['title']=job_titles[:10]\n",
    "jobs['company']=company_names[:10]\n",
    "jobs['location']=location_lists[:10]\n",
    "jobs['experience']=experiences_required[:10]"
   ]
  },
  {
   "cell_type": "code",
   "execution_count": 31,
   "metadata": {},
   "outputs": [
    {
     "data": {
      "text/html": [
       "<div>\n",
       "<style scoped>\n",
       "    .dataframe tbody tr th:only-of-type {\n",
       "        vertical-align: middle;\n",
       "    }\n",
       "\n",
       "    .dataframe tbody tr th {\n",
       "        vertical-align: top;\n",
       "    }\n",
       "\n",
       "    .dataframe thead th {\n",
       "        text-align: right;\n",
       "    }\n",
       "</style>\n",
       "<table border=\"1\" class=\"dataframe\">\n",
       "  <thead>\n",
       "    <tr style=\"text-align: right;\">\n",
       "      <th></th>\n",
       "      <th>title</th>\n",
       "      <th>company</th>\n",
       "      <th>location</th>\n",
       "      <th>experience</th>\n",
       "    </tr>\n",
       "  </thead>\n",
       "  <tbody>\n",
       "    <tr>\n",
       "      <th>0</th>\n",
       "      <td>Developer - Data Science</td>\n",
       "      <td>ICL Systems India Private Limited</td>\n",
       "      <td>Delhi / NCR</td>\n",
       "      <td>3-5 Yrs</td>\n",
       "    </tr>\n",
       "    <tr>\n",
       "      <th>1</th>\n",
       "      <td>Data Scientist</td>\n",
       "      <td>CronJ IT Technologies Private Limited</td>\n",
       "      <td>Bangalore/Bengaluru</td>\n",
       "      <td>0-1 Yrs</td>\n",
       "    </tr>\n",
       "    <tr>\n",
       "      <th>2</th>\n",
       "      <td>Staff Data Scientist</td>\n",
       "      <td>Walmart Global Tech India</td>\n",
       "      <td>Other</td>\n",
       "      <td>0-5 Yrs</td>\n",
       "    </tr>\n",
       "    <tr>\n",
       "      <th>3</th>\n",
       "      <td>Opportunity For Data Scientist Internship - Be...</td>\n",
       "      <td>Corner Stone Solutions</td>\n",
       "      <td>Bangalore/Bengaluru</td>\n",
       "      <td>0-1 Yrs</td>\n",
       "    </tr>\n",
       "    <tr>\n",
       "      <th>4</th>\n",
       "      <td>Data Scientist</td>\n",
       "      <td>Super India Tech Mark</td>\n",
       "      <td>Mumbai (All Areas)</td>\n",
       "      <td>0-1 Yrs</td>\n",
       "    </tr>\n",
       "    <tr>\n",
       "      <th>5</th>\n",
       "      <td>Data Scientist/ Analyst</td>\n",
       "      <td>Becton Dickinson India Pvt. Ltd</td>\n",
       "      <td>Bangalore/Bengaluru</td>\n",
       "      <td>5-10 Yrs</td>\n",
       "    </tr>\n",
       "    <tr>\n",
       "      <th>6</th>\n",
       "      <td>Data Scientist - Machine Learning</td>\n",
       "      <td>AugmatrixGo</td>\n",
       "      <td>Bangalore/Bengaluru</td>\n",
       "      <td>2-5 Yrs</td>\n",
       "    </tr>\n",
       "    <tr>\n",
       "      <th>7</th>\n",
       "      <td>Data Scientist || Data Analyst || Data science</td>\n",
       "      <td>Inspiration Manpower Consultancy Pvt. Ltd.</td>\n",
       "      <td>Navi Mumbai, Bangalore/Bengaluru</td>\n",
       "      <td>6-11 Yrs</td>\n",
       "    </tr>\n",
       "    <tr>\n",
       "      <th>8</th>\n",
       "      <td>DBCG IND - GAMMA Senior Data Scientist</td>\n",
       "      <td>Boston Consulting Group</td>\n",
       "      <td>Mumbai, New Delhi, Chennai, Bangalore/Bengaluru</td>\n",
       "      <td>6-10 Yrs</td>\n",
       "    </tr>\n",
       "    <tr>\n",
       "      <th>9</th>\n",
       "      <td>Data Scientist - Image Processing/Machine Lear...</td>\n",
       "      <td>CarbyneTech India</td>\n",
       "      <td>Hyderabad/Secunderabad</td>\n",
       "      <td>6-11 Yrs</td>\n",
       "    </tr>\n",
       "  </tbody>\n",
       "</table>\n",
       "</div>"
      ],
      "text/plain": [
       "                                               title  \\\n",
       "0                           Developer - Data Science   \n",
       "1                                     Data Scientist   \n",
       "2                               Staff Data Scientist   \n",
       "3  Opportunity For Data Scientist Internship - Be...   \n",
       "4                                     Data Scientist   \n",
       "5                            Data Scientist/ Analyst   \n",
       "6                  Data Scientist - Machine Learning   \n",
       "7     Data Scientist || Data Analyst || Data science   \n",
       "8             DBCG IND - GAMMA Senior Data Scientist   \n",
       "9  Data Scientist - Image Processing/Machine Lear...   \n",
       "\n",
       "                                      company  \\\n",
       "0           ICL Systems India Private Limited   \n",
       "1       CronJ IT Technologies Private Limited   \n",
       "2                   Walmart Global Tech India   \n",
       "3                      Corner Stone Solutions   \n",
       "4                       Super India Tech Mark   \n",
       "5             Becton Dickinson India Pvt. Ltd   \n",
       "6                                 AugmatrixGo   \n",
       "7  Inspiration Manpower Consultancy Pvt. Ltd.   \n",
       "8                     Boston Consulting Group   \n",
       "9                           CarbyneTech India   \n",
       "\n",
       "                                          location experience  \n",
       "0                                      Delhi / NCR    3-5 Yrs  \n",
       "1                              Bangalore/Bengaluru    0-1 Yrs  \n",
       "2                                            Other    0-5 Yrs  \n",
       "3                              Bangalore/Bengaluru    0-1 Yrs  \n",
       "4                               Mumbai (All Areas)    0-1 Yrs  \n",
       "5                              Bangalore/Bengaluru   5-10 Yrs  \n",
       "6                              Bangalore/Bengaluru    2-5 Yrs  \n",
       "7                 Navi Mumbai, Bangalore/Bengaluru   6-11 Yrs  \n",
       "8  Mumbai, New Delhi, Chennai, Bangalore/Bengaluru   6-10 Yrs  \n",
       "9                           Hyderabad/Secunderabad   6-11 Yrs  "
      ]
     },
     "execution_count": 31,
     "metadata": {},
     "output_type": "execute_result"
    }
   ],
   "source": [
    "jobs"
   ]
  },
  {
   "cell_type": "code",
   "execution_count": 32,
   "metadata": {},
   "outputs": [],
   "source": [
    "import pickle\n",
    "filename= 'Selenium AssignmentQ3.pkl'\n",
    "pickle.dump(jobs,open(filename,'wb'))"
   ]
  },
  {
   "cell_type": "code",
   "execution_count": null,
   "metadata": {},
   "outputs": [],
   "source": []
  },
  {
   "cell_type": "code",
   "execution_count": null,
   "metadata": {},
   "outputs": [],
   "source": []
  },
  {
   "cell_type": "code",
   "execution_count": null,
   "metadata": {},
   "outputs": [],
   "source": []
  },
  {
   "cell_type": "code",
   "execution_count": null,
   "metadata": {},
   "outputs": [],
   "source": []
  },
  {
   "cell_type": "code",
   "execution_count": null,
   "metadata": {},
   "outputs": [],
   "source": [
    "    "
   ]
  },
  {
   "cell_type": "code",
   "execution_count": null,
   "metadata": {},
   "outputs": [],
   "source": []
  },
  {
   "cell_type": "code",
   "execution_count": null,
   "metadata": {},
   "outputs": [],
   "source": []
  },
  {
   "cell_type": "code",
   "execution_count": null,
   "metadata": {},
   "outputs": [],
   "source": []
  },
  {
   "cell_type": "code",
   "execution_count": null,
   "metadata": {},
   "outputs": [],
   "source": []
  },
  {
   "cell_type": "code",
   "execution_count": null,
   "metadata": {},
   "outputs": [],
   "source": []
  },
  {
   "cell_type": "code",
   "execution_count": null,
   "metadata": {},
   "outputs": [],
   "source": []
  },
  {
   "cell_type": "code",
   "execution_count": null,
   "metadata": {},
   "outputs": [],
   "source": []
  },
  {
   "cell_type": "code",
   "execution_count": null,
   "metadata": {},
   "outputs": [],
   "source": []
  },
  {
   "cell_type": "code",
   "execution_count": null,
   "metadata": {},
   "outputs": [],
   "source": []
  },
  {
   "cell_type": "code",
   "execution_count": null,
   "metadata": {},
   "outputs": [],
   "source": []
  },
  {
   "cell_type": "code",
   "execution_count": null,
   "metadata": {},
   "outputs": [],
   "source": []
  },
  {
   "cell_type": "code",
   "execution_count": null,
   "metadata": {},
   "outputs": [],
   "source": []
  },
  {
   "cell_type": "code",
   "execution_count": null,
   "metadata": {},
   "outputs": [],
   "source": []
  },
  {
   "cell_type": "code",
   "execution_count": null,
   "metadata": {},
   "outputs": [],
   "source": []
  },
  {
   "cell_type": "code",
   "execution_count": null,
   "metadata": {},
   "outputs": [],
   "source": []
  },
  {
   "cell_type": "code",
   "execution_count": null,
   "metadata": {},
   "outputs": [],
   "source": []
  },
  {
   "cell_type": "code",
   "execution_count": null,
   "metadata": {},
   "outputs": [],
   "source": []
  },
  {
   "cell_type": "code",
   "execution_count": null,
   "metadata": {},
   "outputs": [],
   "source": []
  },
  {
   "cell_type": "code",
   "execution_count": null,
   "metadata": {},
   "outputs": [],
   "source": []
  },
  {
   "cell_type": "code",
   "execution_count": null,
   "metadata": {},
   "outputs": [],
   "source": []
  },
  {
   "cell_type": "code",
   "execution_count": null,
   "metadata": {},
   "outputs": [],
   "source": []
  },
  {
   "cell_type": "code",
   "execution_count": null,
   "metadata": {},
   "outputs": [],
   "source": []
  },
  {
   "cell_type": "code",
   "execution_count": null,
   "metadata": {},
   "outputs": [],
   "source": []
  },
  {
   "cell_type": "code",
   "execution_count": null,
   "metadata": {},
   "outputs": [],
   "source": []
  },
  {
   "cell_type": "code",
   "execution_count": null,
   "metadata": {},
   "outputs": [],
   "source": []
  },
  {
   "cell_type": "code",
   "execution_count": null,
   "metadata": {},
   "outputs": [],
   "source": []
  },
  {
   "cell_type": "code",
   "execution_count": null,
   "metadata": {},
   "outputs": [],
   "source": []
  },
  {
   "cell_type": "code",
   "execution_count": null,
   "metadata": {},
   "outputs": [],
   "source": []
  },
  {
   "cell_type": "code",
   "execution_count": null,
   "metadata": {},
   "outputs": [],
   "source": []
  },
  {
   "cell_type": "code",
   "execution_count": null,
   "metadata": {},
   "outputs": [],
   "source": []
  },
  {
   "cell_type": "code",
   "execution_count": null,
   "metadata": {},
   "outputs": [],
   "source": []
  },
  {
   "cell_type": "code",
   "execution_count": null,
   "metadata": {},
   "outputs": [],
   "source": []
  }
 ],
 "metadata": {
  "kernelspec": {
   "display_name": "Python 3",
   "language": "python",
   "name": "python3"
  },
  "language_info": {
   "codemirror_mode": {
    "name": "ipython",
    "version": 3
   },
   "file_extension": ".py",
   "mimetype": "text/x-python",
   "name": "python",
   "nbconvert_exporter": "python",
   "pygments_lexer": "ipython3",
   "version": "3.8.3"
  }
 },
 "nbformat": 4,
 "nbformat_minor": 4
}
